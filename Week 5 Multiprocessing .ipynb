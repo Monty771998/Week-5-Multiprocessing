{
 "cells": [
  {
   "cell_type": "markdown",
   "id": "a0b835bb-09e1-4a7f-a001-d4f8de6b3461",
   "metadata": {},
   "source": [
    "Q1. What is multiprocessing in python? Why is it useful?"
   ]
  },
  {
   "cell_type": "markdown",
   "id": "a2aec454-fbaf-4207-a2bc-11d1d63381d1",
   "metadata": {},
   "source": [
    "Multiprocessing is the way by which we can use multiple processes and we can distribute the load of tasks in multiple \n",
    "process.\n",
    "It is useful because\n",
    "1.speed up\n",
    "It can speed up your code by running multiple tasks concurrently\n",
    "2.improved scalability\n",
    "It can be scaled up to run on multiple machine\n",
    "3.reduced resources usage\n",
    "Each process in a multiprocessing application has its own memory space. This means that you can run more\n",
    "processes without running out of memory."
   ]
  },
  {
   "cell_type": "code",
   "execution_count": null,
   "id": "68148dd3-d40b-4b8e-a0e9-6a11f54dffe7",
   "metadata": {},
   "outputs": [],
   "source": []
  },
  {
   "cell_type": "markdown",
   "id": "07cc2cd5-8b5d-453d-982f-e91e23959cac",
   "metadata": {},
   "source": [
    "Q2. What are the differences between multiprocessing and multithreading?"
   ]
  },
  {
   "cell_type": "markdown",
   "id": "8008a51d-1c6a-45e4-bb85-ca74d38c499a",
   "metadata": {},
   "source": [
    "differences are \n",
    "1.multiprocessing works on multiple process in a single thread while multithreading works on multiple thread in a single process\n",
    "2.multiprocessing can perform multiple big tasks by splitting works on multiple process efficiently and faster than multithreading\n",
    "3.multiprocessing is expensive than multithreading \n",
    "4.multiprocessing dont share data because every threads has its own memory while multithreading shares data between threads "
   ]
  },
  {
   "cell_type": "code",
   "execution_count": null,
   "id": "06654b5e-6063-449f-bb14-f87a9197b294",
   "metadata": {},
   "outputs": [],
   "source": []
  },
  {
   "cell_type": "markdown",
   "id": "846f9771-0977-45b5-8fdf-8a2976d4d729",
   "metadata": {},
   "source": [
    "Q3. Write a python code to create a process using the multiprocessing module."
   ]
  },
  {
   "cell_type": "code",
   "execution_count": 1,
   "id": "bd14bb7f-5e36-4f48-8721-36354cfbcd2b",
   "metadata": {},
   "outputs": [],
   "source": [
    "import multiprocessing"
   ]
  },
  {
   "cell_type": "code",
   "execution_count": 30,
   "id": "26c5aa78-d811-4721-b641-522cf4374564",
   "metadata": {},
   "outputs": [],
   "source": [
    "def prime_num():\n",
    "    for i in range(2,101):\n",
    "        for j in range(2,i):\n",
    "            if i%j==0:\n",
    "                break\n",
    "        else:\n",
    "            print(i)\n",
    "if __name__ == '__main__':\n",
    "    p = multiprocessing.Process(target = prime_num , args=())"
   ]
  },
  {
   "cell_type": "code",
   "execution_count": 31,
   "id": "996c4a17-24a7-470b-a54d-adbefa657d72",
   "metadata": {},
   "outputs": [
    {
     "name": "stdout",
     "output_type": "stream",
     "text": [
      "2\n",
      "3\n",
      "5\n",
      "7\n",
      "11\n",
      "13\n",
      "17\n",
      "19\n",
      "23\n",
      "29\n",
      "31\n",
      "37\n",
      "41\n",
      "43\n",
      "47\n",
      "53\n",
      "59\n",
      "61\n",
      "67\n",
      "71\n",
      "73\n",
      "79\n",
      "83\n",
      "89\n",
      "97\n"
     ]
    }
   ],
   "source": [
    "p.start()"
   ]
  },
  {
   "cell_type": "code",
   "execution_count": 22,
   "id": "eab9242f-7b9b-452d-96dd-02f82277fd79",
   "metadata": {},
   "outputs": [],
   "source": [
    "p.join()"
   ]
  },
  {
   "cell_type": "code",
   "execution_count": null,
   "id": "3adb862f-27a6-4480-94e8-a7adc87cfe3e",
   "metadata": {},
   "outputs": [],
   "source": []
  },
  {
   "cell_type": "markdown",
   "id": "b2a178e1-c765-4e19-bb65-7424ea72aefb",
   "metadata": {},
   "source": [
    "Q4. What is a multiprocessing pool in python? Why is it used?"
   ]
  },
  {
   "cell_type": "markdown",
   "id": "7097e602-beb5-46e1-9da0-76dc0fdc518c",
   "metadata": {},
   "source": [
    " A multiprocessing pool in Python is a group of worker processes that can be used to execute tasks\n",
    " in parallel. It is useful for executing large number of tasks or function in parallel process at a same time.It can speed \n",
    "  up code by running parallel process"
   ]
  },
  {
   "cell_type": "code",
   "execution_count": null,
   "id": "87953b73-1e73-4c70-bd94-664edacdddec",
   "metadata": {},
   "outputs": [],
   "source": []
  },
  {
   "cell_type": "markdown",
   "id": "30fd76c6-bc85-4cac-a392-6f4b31ee7f32",
   "metadata": {},
   "source": [
    "Q5. How can we create a pool of worker processes in python using the multiprocessing module?"
   ]
  },
  {
   "cell_type": "code",
   "execution_count": 27,
   "id": "33c79702-549a-4713-aa4d-ac2ea365611c",
   "metadata": {},
   "outputs": [],
   "source": [
    "import multiprocessing"
   ]
  },
  {
   "cell_type": "code",
   "execution_count": 72,
   "id": "a5ab7971-d7e2-4095-b073-fd560537cbef",
   "metadata": {},
   "outputs": [
    {
     "name": "stdout",
     "output_type": "stream",
     "text": [
      "[1, 8, 27, 64, 125, 216, 343, 512, 729, 1000]\n"
     ]
    }
   ],
   "source": [
    "def cube_num(n):\n",
    "    return n**3\n",
    "            \n",
    "if __name__ == '__main__':\n",
    "    pool = multiprocessing.Pool(processes=4)\n",
    "    l2 = [1,2,3,4,5,6,7,8,9,10]\n",
    "    out = pool.map(cube_num ,l2)\n",
    "    print(out)"
   ]
  },
  {
   "cell_type": "code",
   "execution_count": null,
   "id": "4355581a-3cf9-4ed4-a509-8ffac1492627",
   "metadata": {},
   "outputs": [],
   "source": []
  },
  {
   "cell_type": "markdown",
   "id": "5aa174f2-e2aa-47e5-9e8c-861750dd545a",
   "metadata": {},
   "source": [
    "Q6. Write a python program to create 4 processes, each process should print a different number using the\n",
    "multiprocessing module in python."
   ]
  },
  {
   "cell_type": "code",
   "execution_count": 70,
   "id": "e2e51e1d-5360-4916-afb8-9c4cfb3fd6e6",
   "metadata": {},
   "outputs": [
    {
     "name": "stdout",
     "output_type": "stream",
     "text": [
      "number is 12 number is\n",
      "45number is\n",
      " 98\n",
      "number is 15\n"
     ]
    }
   ],
   "source": [
    "import multiprocessing\n",
    "\n",
    "def print_number(number):\n",
    "    print('number is',number)\n",
    "\n",
    "if __name__ == \"__main__\":\n",
    "    processes = []\n",
    "    numbers = [12,45,98,15]\n",
    "    for number in numbers:\n",
    "        process = multiprocessing.Process(target=print_number, args=(number,))\n",
    "        process.start()\n",
    "        processes.append(process)\n",
    "\n",
    "    for process in processes:\n",
    "        process.join()"
   ]
  },
  {
   "cell_type": "code",
   "execution_count": null,
   "id": "e6d370bf-1663-4490-84c8-3418c8156bfe",
   "metadata": {},
   "outputs": [],
   "source": []
  },
  {
   "cell_type": "code",
   "execution_count": null,
   "id": "3ea3657d-4167-4baa-8a98-35ac4a455c38",
   "metadata": {},
   "outputs": [],
   "source": []
  },
  {
   "cell_type": "code",
   "execution_count": null,
   "id": "5f0082fb-c657-499e-8ef5-3d937c1ad1ec",
   "metadata": {},
   "outputs": [],
   "source": []
  },
  {
   "cell_type": "code",
   "execution_count": null,
   "id": "1b965c67-5edd-40ca-90dd-f68a73ddfa5d",
   "metadata": {},
   "outputs": [],
   "source": []
  },
  {
   "cell_type": "code",
   "execution_count": null,
   "id": "bfa0c21b-83e7-423e-a923-fc474e1b387d",
   "metadata": {},
   "outputs": [],
   "source": []
  },
  {
   "cell_type": "code",
   "execution_count": null,
   "id": "9c13ad9c-6c71-48b6-92dc-ea2cd550d10a",
   "metadata": {},
   "outputs": [],
   "source": []
  },
  {
   "cell_type": "code",
   "execution_count": null,
   "id": "b600bba0-aca3-4609-9c27-9caeb2885441",
   "metadata": {},
   "outputs": [],
   "source": []
  },
  {
   "cell_type": "code",
   "execution_count": null,
   "id": "fb223d12-b640-4d6d-80bf-d5349393e743",
   "metadata": {},
   "outputs": [],
   "source": []
  },
  {
   "cell_type": "code",
   "execution_count": null,
   "id": "b11b9d0f-75f3-4818-be23-13824d831718",
   "metadata": {},
   "outputs": [],
   "source": []
  },
  {
   "cell_type": "code",
   "execution_count": null,
   "id": "774dd640-a1da-441e-b099-dbc1d3d603b4",
   "metadata": {},
   "outputs": [],
   "source": []
  },
  {
   "cell_type": "code",
   "execution_count": null,
   "id": "7c72b07a-da2b-4613-98dd-a1ef5215f672",
   "metadata": {},
   "outputs": [],
   "source": []
  },
  {
   "cell_type": "code",
   "execution_count": null,
   "id": "8f60257b-05a4-4cad-9dd1-825f2e8c161f",
   "metadata": {},
   "outputs": [],
   "source": []
  },
  {
   "cell_type": "code",
   "execution_count": null,
   "id": "6edd7917-6e21-4cf1-bc10-74e38c643968",
   "metadata": {},
   "outputs": [],
   "source": []
  },
  {
   "cell_type": "code",
   "execution_count": null,
   "id": "e9c0f3ea-616d-4b22-b4e7-0a7e7d3b14a3",
   "metadata": {},
   "outputs": [],
   "source": []
  },
  {
   "cell_type": "code",
   "execution_count": null,
   "id": "9bd73232-b003-4979-a1f0-de513429cdeb",
   "metadata": {},
   "outputs": [],
   "source": []
  },
  {
   "cell_type": "code",
   "execution_count": null,
   "id": "f8429c66-af47-4662-8ba3-b79e68a17fee",
   "metadata": {},
   "outputs": [],
   "source": []
  },
  {
   "cell_type": "code",
   "execution_count": null,
   "id": "950df4ef-fff8-41c2-99ac-f45de04b72b7",
   "metadata": {},
   "outputs": [],
   "source": []
  },
  {
   "cell_type": "code",
   "execution_count": null,
   "id": "d56cb2f1-0cea-455a-83bb-aa153c0e4342",
   "metadata": {},
   "outputs": [],
   "source": []
  },
  {
   "cell_type": "code",
   "execution_count": null,
   "id": "80d284d9-79e0-44e5-a196-0af7975dd0d5",
   "metadata": {},
   "outputs": [],
   "source": []
  },
  {
   "cell_type": "code",
   "execution_count": null,
   "id": "f9e0281f-0b9e-4456-9db2-2ee1dfae0dcc",
   "metadata": {},
   "outputs": [],
   "source": []
  },
  {
   "cell_type": "code",
   "execution_count": null,
   "id": "de218187-fca7-48a7-af5c-aed89ab4add2",
   "metadata": {},
   "outputs": [],
   "source": []
  }
 ],
 "metadata": {
  "kernelspec": {
   "display_name": "Python 3 (ipykernel)",
   "language": "python",
   "name": "python3"
  },
  "language_info": {
   "codemirror_mode": {
    "name": "ipython",
    "version": 3
   },
   "file_extension": ".py",
   "mimetype": "text/x-python",
   "name": "python",
   "nbconvert_exporter": "python",
   "pygments_lexer": "ipython3",
   "version": "3.10.8"
  }
 },
 "nbformat": 4,
 "nbformat_minor": 5
}
